{
  "nbformat": 4,
  "nbformat_minor": 0,
  "metadata": {
    "colab": {
      "provenance": [],
      "authorship_tag": "ABX9TyMYwaz+PprlTgPdGcQGd7u4",
      "include_colab_link": true
    },
    "kernelspec": {
      "name": "python3",
      "display_name": "Python 3"
    },
    "language_info": {
      "name": "python"
    }
  },
  "cells": [
    {
      "cell_type": "markdown",
      "metadata": {
        "id": "view-in-github",
        "colab_type": "text"
      },
      "source": [
        "<a href=\"https://colab.research.google.com/github/ribka-5/Data-Mining/blob/main/Uprak_2.ipynb\" target=\"_parent\"><img src=\"https://colab.research.google.com/assets/colab-badge.svg\" alt=\"Open In Colab\"/></a>"
      ]
    },
    {
      "cell_type": "code",
      "execution_count": null,
      "metadata": {
        "id": "g8yzo813WhIs"
      },
      "outputs": [],
      "source": [
        "import pandas as pd\n",
        "import numpy as np\n",
        "import seaborn as sns\n",
        "import matplotlib.pyplot as plt"
      ]
    },
    {
      "cell_type": "code",
      "source": [
        "url='https://drive.google.com/file/d/1eNgBBBXhYrwqLVydw2oerJpg2ub3sDxG/view?usp=share_link'\n",
        "url='https://drive.google.com/uc?id=' + url.split('/')[-2]\n",
        "df = pd.read_csv(url)\n",
        "df.head()"
      ],
      "metadata": {
        "colab": {
          "base_uri": "https://localhost:8080/",
          "height": 206
        },
        "id": "0LSvKYejYjae",
        "outputId": "3c26e5f5-ada4-429c-db77-c52ce734eedd"
      },
      "execution_count": null,
      "outputs": [
        {
          "output_type": "execute_result",
          "data": {
            "text/plain": [
              "  Provinsi  Tahun   Produksi  Luas Panen  Curah hujan  Kelembapan  \\\n",
              "0     Aceh   1993  1329536.0    323589.0       1627.0       82.00   \n",
              "1     Aceh   1994  1299699.0    329041.0       1521.0       82.12   \n",
              "2     Aceh   1995  1382905.0    339253.0       1476.0       82.72   \n",
              "3     Aceh   1996  1419128.0    348223.0       1557.0       83.00   \n",
              "4     Aceh   1997  1368074.0    337561.0       1339.0       82.46   \n",
              "\n",
              "   Suhu rata-rata  \n",
              "0           26.06  \n",
              "1           26.92  \n",
              "2           26.27  \n",
              "3           26.08  \n",
              "4           26.31  "
            ],
            "text/html": [
              "\n",
              "  <div id=\"df-e6bc9ce0-c74c-4f4d-b561-54ca4f8ca075\">\n",
              "    <div class=\"colab-df-container\">\n",
              "      <div>\n",
              "<style scoped>\n",
              "    .dataframe tbody tr th:only-of-type {\n",
              "        vertical-align: middle;\n",
              "    }\n",
              "\n",
              "    .dataframe tbody tr th {\n",
              "        vertical-align: top;\n",
              "    }\n",
              "\n",
              "    .dataframe thead th {\n",
              "        text-align: right;\n",
              "    }\n",
              "</style>\n",
              "<table border=\"1\" class=\"dataframe\">\n",
              "  <thead>\n",
              "    <tr style=\"text-align: right;\">\n",
              "      <th></th>\n",
              "      <th>Provinsi</th>\n",
              "      <th>Tahun</th>\n",
              "      <th>Produksi</th>\n",
              "      <th>Luas Panen</th>\n",
              "      <th>Curah hujan</th>\n",
              "      <th>Kelembapan</th>\n",
              "      <th>Suhu rata-rata</th>\n",
              "    </tr>\n",
              "  </thead>\n",
              "  <tbody>\n",
              "    <tr>\n",
              "      <th>0</th>\n",
              "      <td>Aceh</td>\n",
              "      <td>1993</td>\n",
              "      <td>1329536.0</td>\n",
              "      <td>323589.0</td>\n",
              "      <td>1627.0</td>\n",
              "      <td>82.00</td>\n",
              "      <td>26.06</td>\n",
              "    </tr>\n",
              "    <tr>\n",
              "      <th>1</th>\n",
              "      <td>Aceh</td>\n",
              "      <td>1994</td>\n",
              "      <td>1299699.0</td>\n",
              "      <td>329041.0</td>\n",
              "      <td>1521.0</td>\n",
              "      <td>82.12</td>\n",
              "      <td>26.92</td>\n",
              "    </tr>\n",
              "    <tr>\n",
              "      <th>2</th>\n",
              "      <td>Aceh</td>\n",
              "      <td>1995</td>\n",
              "      <td>1382905.0</td>\n",
              "      <td>339253.0</td>\n",
              "      <td>1476.0</td>\n",
              "      <td>82.72</td>\n",
              "      <td>26.27</td>\n",
              "    </tr>\n",
              "    <tr>\n",
              "      <th>3</th>\n",
              "      <td>Aceh</td>\n",
              "      <td>1996</td>\n",
              "      <td>1419128.0</td>\n",
              "      <td>348223.0</td>\n",
              "      <td>1557.0</td>\n",
              "      <td>83.00</td>\n",
              "      <td>26.08</td>\n",
              "    </tr>\n",
              "    <tr>\n",
              "      <th>4</th>\n",
              "      <td>Aceh</td>\n",
              "      <td>1997</td>\n",
              "      <td>1368074.0</td>\n",
              "      <td>337561.0</td>\n",
              "      <td>1339.0</td>\n",
              "      <td>82.46</td>\n",
              "      <td>26.31</td>\n",
              "    </tr>\n",
              "  </tbody>\n",
              "</table>\n",
              "</div>\n",
              "      <button class=\"colab-df-convert\" onclick=\"convertToInteractive('df-e6bc9ce0-c74c-4f4d-b561-54ca4f8ca075')\"\n",
              "              title=\"Convert this dataframe to an interactive table.\"\n",
              "              style=\"display:none;\">\n",
              "        \n",
              "  <svg xmlns=\"http://www.w3.org/2000/svg\" height=\"24px\"viewBox=\"0 0 24 24\"\n",
              "       width=\"24px\">\n",
              "    <path d=\"M0 0h24v24H0V0z\" fill=\"none\"/>\n",
              "    <path d=\"M18.56 5.44l.94 2.06.94-2.06 2.06-.94-2.06-.94-.94-2.06-.94 2.06-2.06.94zm-11 1L8.5 8.5l.94-2.06 2.06-.94-2.06-.94L8.5 2.5l-.94 2.06-2.06.94zm10 10l.94 2.06.94-2.06 2.06-.94-2.06-.94-.94-2.06-.94 2.06-2.06.94z\"/><path d=\"M17.41 7.96l-1.37-1.37c-.4-.4-.92-.59-1.43-.59-.52 0-1.04.2-1.43.59L10.3 9.45l-7.72 7.72c-.78.78-.78 2.05 0 2.83L4 21.41c.39.39.9.59 1.41.59.51 0 1.02-.2 1.41-.59l7.78-7.78 2.81-2.81c.8-.78.8-2.07 0-2.86zM5.41 20L4 18.59l7.72-7.72 1.47 1.35L5.41 20z\"/>\n",
              "  </svg>\n",
              "      </button>\n",
              "      \n",
              "  <style>\n",
              "    .colab-df-container {\n",
              "      display:flex;\n",
              "      flex-wrap:wrap;\n",
              "      gap: 12px;\n",
              "    }\n",
              "\n",
              "    .colab-df-convert {\n",
              "      background-color: #E8F0FE;\n",
              "      border: none;\n",
              "      border-radius: 50%;\n",
              "      cursor: pointer;\n",
              "      display: none;\n",
              "      fill: #1967D2;\n",
              "      height: 32px;\n",
              "      padding: 0 0 0 0;\n",
              "      width: 32px;\n",
              "    }\n",
              "\n",
              "    .colab-df-convert:hover {\n",
              "      background-color: #E2EBFA;\n",
              "      box-shadow: 0px 1px 2px rgba(60, 64, 67, 0.3), 0px 1px 3px 1px rgba(60, 64, 67, 0.15);\n",
              "      fill: #174EA6;\n",
              "    }\n",
              "\n",
              "    [theme=dark] .colab-df-convert {\n",
              "      background-color: #3B4455;\n",
              "      fill: #D2E3FC;\n",
              "    }\n",
              "\n",
              "    [theme=dark] .colab-df-convert:hover {\n",
              "      background-color: #434B5C;\n",
              "      box-shadow: 0px 1px 3px 1px rgba(0, 0, 0, 0.15);\n",
              "      filter: drop-shadow(0px 1px 2px rgba(0, 0, 0, 0.3));\n",
              "      fill: #FFFFFF;\n",
              "    }\n",
              "  </style>\n",
              "\n",
              "      <script>\n",
              "        const buttonEl =\n",
              "          document.querySelector('#df-e6bc9ce0-c74c-4f4d-b561-54ca4f8ca075 button.colab-df-convert');\n",
              "        buttonEl.style.display =\n",
              "          google.colab.kernel.accessAllowed ? 'block' : 'none';\n",
              "\n",
              "        async function convertToInteractive(key) {\n",
              "          const element = document.querySelector('#df-e6bc9ce0-c74c-4f4d-b561-54ca4f8ca075');\n",
              "          const dataTable =\n",
              "            await google.colab.kernel.invokeFunction('convertToInteractive',\n",
              "                                                     [key], {});\n",
              "          if (!dataTable) return;\n",
              "\n",
              "          const docLinkHtml = 'Like what you see? Visit the ' +\n",
              "            '<a target=\"_blank\" href=https://colab.research.google.com/notebooks/data_table.ipynb>data table notebook</a>'\n",
              "            + ' to learn more about interactive tables.';\n",
              "          element.innerHTML = '';\n",
              "          dataTable['output_type'] = 'display_data';\n",
              "          await google.colab.output.renderOutput(dataTable, element);\n",
              "          const docLink = document.createElement('div');\n",
              "          docLink.innerHTML = docLinkHtml;\n",
              "          element.appendChild(docLink);\n",
              "        }\n",
              "      </script>\n",
              "    </div>\n",
              "  </div>\n",
              "  "
            ]
          },
          "metadata": {},
          "execution_count": 109
        }
      ]
    },
    {
      "cell_type": "code",
      "source": [
        "df.tail()"
      ],
      "metadata": {
        "colab": {
          "base_uri": "https://localhost:8080/",
          "height": 250
        },
        "id": "hRFD1d07Ypke",
        "outputId": "26d3af16-1ee5-424e-c685-b3a59bf0106f"
      },
      "execution_count": null,
      "outputs": [
        {
          "output_type": "execute_result",
          "data": {
            "text/plain": [
              "    Provinsi  Tahun    Produksi  Luas Panen  Curah hujan  Kelembapan  \\\n",
              "219  Lampung   2016  3831923.00   390799.00       2317.6       79.40   \n",
              "220  Lampung   2017  4090654.00   396559.00       1825.1       77.04   \n",
              "221  Lampung   2018  2488641.91   511940.93       1385.8       76.05   \n",
              "222  Lampung   2019  2164089.33   464103.42       1706.4       78.03   \n",
              "223  Lampung   2020  2604913.29   545149.05       2211.3       75.80   \n",
              "\n",
              "     Suhu rata-rata  \n",
              "219           26.45  \n",
              "220           26.36  \n",
              "221           25.50  \n",
              "222           27.23  \n",
              "223           24.58  "
            ],
            "text/html": [
              "\n",
              "  <div id=\"df-6cc9f863-83da-440b-b526-9936d2917993\">\n",
              "    <div class=\"colab-df-container\">\n",
              "      <div>\n",
              "<style scoped>\n",
              "    .dataframe tbody tr th:only-of-type {\n",
              "        vertical-align: middle;\n",
              "    }\n",
              "\n",
              "    .dataframe tbody tr th {\n",
              "        vertical-align: top;\n",
              "    }\n",
              "\n",
              "    .dataframe thead th {\n",
              "        text-align: right;\n",
              "    }\n",
              "</style>\n",
              "<table border=\"1\" class=\"dataframe\">\n",
              "  <thead>\n",
              "    <tr style=\"text-align: right;\">\n",
              "      <th></th>\n",
              "      <th>Provinsi</th>\n",
              "      <th>Tahun</th>\n",
              "      <th>Produksi</th>\n",
              "      <th>Luas Panen</th>\n",
              "      <th>Curah hujan</th>\n",
              "      <th>Kelembapan</th>\n",
              "      <th>Suhu rata-rata</th>\n",
              "    </tr>\n",
              "  </thead>\n",
              "  <tbody>\n",
              "    <tr>\n",
              "      <th>219</th>\n",
              "      <td>Lampung</td>\n",
              "      <td>2016</td>\n",
              "      <td>3831923.00</td>\n",
              "      <td>390799.00</td>\n",
              "      <td>2317.6</td>\n",
              "      <td>79.40</td>\n",
              "      <td>26.45</td>\n",
              "    </tr>\n",
              "    <tr>\n",
              "      <th>220</th>\n",
              "      <td>Lampung</td>\n",
              "      <td>2017</td>\n",
              "      <td>4090654.00</td>\n",
              "      <td>396559.00</td>\n",
              "      <td>1825.1</td>\n",
              "      <td>77.04</td>\n",
              "      <td>26.36</td>\n",
              "    </tr>\n",
              "    <tr>\n",
              "      <th>221</th>\n",
              "      <td>Lampung</td>\n",
              "      <td>2018</td>\n",
              "      <td>2488641.91</td>\n",
              "      <td>511940.93</td>\n",
              "      <td>1385.8</td>\n",
              "      <td>76.05</td>\n",
              "      <td>25.50</td>\n",
              "    </tr>\n",
              "    <tr>\n",
              "      <th>222</th>\n",
              "      <td>Lampung</td>\n",
              "      <td>2019</td>\n",
              "      <td>2164089.33</td>\n",
              "      <td>464103.42</td>\n",
              "      <td>1706.4</td>\n",
              "      <td>78.03</td>\n",
              "      <td>27.23</td>\n",
              "    </tr>\n",
              "    <tr>\n",
              "      <th>223</th>\n",
              "      <td>Lampung</td>\n",
              "      <td>2020</td>\n",
              "      <td>2604913.29</td>\n",
              "      <td>545149.05</td>\n",
              "      <td>2211.3</td>\n",
              "      <td>75.80</td>\n",
              "      <td>24.58</td>\n",
              "    </tr>\n",
              "  </tbody>\n",
              "</table>\n",
              "</div>\n",
              "      <button class=\"colab-df-convert\" onclick=\"convertToInteractive('df-6cc9f863-83da-440b-b526-9936d2917993')\"\n",
              "              title=\"Convert this dataframe to an interactive table.\"\n",
              "              style=\"display:none;\">\n",
              "        \n",
              "  <svg xmlns=\"http://www.w3.org/2000/svg\" height=\"24px\"viewBox=\"0 0 24 24\"\n",
              "       width=\"24px\">\n",
              "    <path d=\"M0 0h24v24H0V0z\" fill=\"none\"/>\n",
              "    <path d=\"M18.56 5.44l.94 2.06.94-2.06 2.06-.94-2.06-.94-.94-2.06-.94 2.06-2.06.94zm-11 1L8.5 8.5l.94-2.06 2.06-.94-2.06-.94L8.5 2.5l-.94 2.06-2.06.94zm10 10l.94 2.06.94-2.06 2.06-.94-2.06-.94-.94-2.06-.94 2.06-2.06.94z\"/><path d=\"M17.41 7.96l-1.37-1.37c-.4-.4-.92-.59-1.43-.59-.52 0-1.04.2-1.43.59L10.3 9.45l-7.72 7.72c-.78.78-.78 2.05 0 2.83L4 21.41c.39.39.9.59 1.41.59.51 0 1.02-.2 1.41-.59l7.78-7.78 2.81-2.81c.8-.78.8-2.07 0-2.86zM5.41 20L4 18.59l7.72-7.72 1.47 1.35L5.41 20z\"/>\n",
              "  </svg>\n",
              "      </button>\n",
              "      \n",
              "  <style>\n",
              "    .colab-df-container {\n",
              "      display:flex;\n",
              "      flex-wrap:wrap;\n",
              "      gap: 12px;\n",
              "    }\n",
              "\n",
              "    .colab-df-convert {\n",
              "      background-color: #E8F0FE;\n",
              "      border: none;\n",
              "      border-radius: 50%;\n",
              "      cursor: pointer;\n",
              "      display: none;\n",
              "      fill: #1967D2;\n",
              "      height: 32px;\n",
              "      padding: 0 0 0 0;\n",
              "      width: 32px;\n",
              "    }\n",
              "\n",
              "    .colab-df-convert:hover {\n",
              "      background-color: #E2EBFA;\n",
              "      box-shadow: 0px 1px 2px rgba(60, 64, 67, 0.3), 0px 1px 3px 1px rgba(60, 64, 67, 0.15);\n",
              "      fill: #174EA6;\n",
              "    }\n",
              "\n",
              "    [theme=dark] .colab-df-convert {\n",
              "      background-color: #3B4455;\n",
              "      fill: #D2E3FC;\n",
              "    }\n",
              "\n",
              "    [theme=dark] .colab-df-convert:hover {\n",
              "      background-color: #434B5C;\n",
              "      box-shadow: 0px 1px 3px 1px rgba(0, 0, 0, 0.15);\n",
              "      filter: drop-shadow(0px 1px 2px rgba(0, 0, 0, 0.3));\n",
              "      fill: #FFFFFF;\n",
              "    }\n",
              "  </style>\n",
              "\n",
              "      <script>\n",
              "        const buttonEl =\n",
              "          document.querySelector('#df-6cc9f863-83da-440b-b526-9936d2917993 button.colab-df-convert');\n",
              "        buttonEl.style.display =\n",
              "          google.colab.kernel.accessAllowed ? 'block' : 'none';\n",
              "\n",
              "        async function convertToInteractive(key) {\n",
              "          const element = document.querySelector('#df-6cc9f863-83da-440b-b526-9936d2917993');\n",
              "          const dataTable =\n",
              "            await google.colab.kernel.invokeFunction('convertToInteractive',\n",
              "                                                     [key], {});\n",
              "          if (!dataTable) return;\n",
              "\n",
              "          const docLinkHtml = 'Like what you see? Visit the ' +\n",
              "            '<a target=\"_blank\" href=https://colab.research.google.com/notebooks/data_table.ipynb>data table notebook</a>'\n",
              "            + ' to learn more about interactive tables.';\n",
              "          element.innerHTML = '';\n",
              "          dataTable['output_type'] = 'display_data';\n",
              "          await google.colab.output.renderOutput(dataTable, element);\n",
              "          const docLink = document.createElement('div');\n",
              "          docLink.innerHTML = docLinkHtml;\n",
              "          element.appendChild(docLink);\n",
              "        }\n",
              "      </script>\n",
              "    </div>\n",
              "  </div>\n",
              "  "
            ]
          },
          "metadata": {},
          "execution_count": 110
        }
      ]
    },
    {
      "cell_type": "code",
      "source": [
        "df.info()"
      ],
      "metadata": {
        "colab": {
          "base_uri": "https://localhost:8080/"
        },
        "id": "ZzVDWMfQYwie",
        "outputId": "a2265333-8802-499a-a85c-1c0412e73478"
      },
      "execution_count": null,
      "outputs": [
        {
          "output_type": "stream",
          "name": "stdout",
          "text": [
            "<class 'pandas.core.frame.DataFrame'>\n",
            "RangeIndex: 224 entries, 0 to 223\n",
            "Data columns (total 7 columns):\n",
            " #   Column          Non-Null Count  Dtype  \n",
            "---  ------          --------------  -----  \n",
            " 0   Provinsi        224 non-null    object \n",
            " 1   Tahun           224 non-null    int64  \n",
            " 2   Produksi        224 non-null    float64\n",
            " 3   Luas Panen      224 non-null    float64\n",
            " 4   Curah hujan     224 non-null    float64\n",
            " 5   Kelembapan      224 non-null    float64\n",
            " 6   Suhu rata-rata  224 non-null    float64\n",
            "dtypes: float64(5), int64(1), object(1)\n",
            "memory usage: 12.4+ KB\n"
          ]
        }
      ]
    },
    {
      "cell_type": "code",
      "source": [
        "df.describe()"
      ],
      "metadata": {
        "colab": {
          "base_uri": "https://localhost:8080/",
          "height": 344
        },
        "id": "BNATNX50YzDR",
        "outputId": "b99e177e-709d-4c30-8d3d-2f57aa11f0c9"
      },
      "execution_count": null,
      "outputs": [
        {
          "output_type": "execute_result",
          "data": {
            "text/plain": [
              "             Tahun      Produksi     Luas Panen  Curah hujan  Kelembapan  \\\n",
              "count   224.000000  2.240000e+02     224.000000   224.000000  224.000000   \n",
              "mean   2006.500000  1.679701e+06  374349.966920  2452.490759   80.948705   \n",
              "std       8.095838  1.161387e+06  232751.161987  1031.972625    4.878680   \n",
              "min    1993.000000  4.293800e+04   63142.040000   222.500000   54.200000   \n",
              "25%    1999.750000  5.488570e+05  146919.500000  1703.525000   78.975000   \n",
              "50%    2006.500000  1.667773e+06  373551.500000  2315.700000   82.375000   \n",
              "75%    2013.250000  2.436851e+06  514570.250000  3039.700000   84.000000   \n",
              "max    2020.000000  4.881089e+06  872737.000000  5522.000000   90.600000   \n",
              "\n",
              "       Suhu rata-rata  \n",
              "count      224.000000  \n",
              "mean        26.801964  \n",
              "std          1.197041  \n",
              "min         22.190000  \n",
              "25%         26.177500  \n",
              "50%         26.730000  \n",
              "75%         27.200000  \n",
              "max         29.850000  "
            ],
            "text/html": [
              "\n",
              "  <div id=\"df-ce361d73-f9a3-4888-a6d8-35d5aa81e0f4\">\n",
              "    <div class=\"colab-df-container\">\n",
              "      <div>\n",
              "<style scoped>\n",
              "    .dataframe tbody tr th:only-of-type {\n",
              "        vertical-align: middle;\n",
              "    }\n",
              "\n",
              "    .dataframe tbody tr th {\n",
              "        vertical-align: top;\n",
              "    }\n",
              "\n",
              "    .dataframe thead th {\n",
              "        text-align: right;\n",
              "    }\n",
              "</style>\n",
              "<table border=\"1\" class=\"dataframe\">\n",
              "  <thead>\n",
              "    <tr style=\"text-align: right;\">\n",
              "      <th></th>\n",
              "      <th>Tahun</th>\n",
              "      <th>Produksi</th>\n",
              "      <th>Luas Panen</th>\n",
              "      <th>Curah hujan</th>\n",
              "      <th>Kelembapan</th>\n",
              "      <th>Suhu rata-rata</th>\n",
              "    </tr>\n",
              "  </thead>\n",
              "  <tbody>\n",
              "    <tr>\n",
              "      <th>count</th>\n",
              "      <td>224.000000</td>\n",
              "      <td>2.240000e+02</td>\n",
              "      <td>224.000000</td>\n",
              "      <td>224.000000</td>\n",
              "      <td>224.000000</td>\n",
              "      <td>224.000000</td>\n",
              "    </tr>\n",
              "    <tr>\n",
              "      <th>mean</th>\n",
              "      <td>2006.500000</td>\n",
              "      <td>1.679701e+06</td>\n",
              "      <td>374349.966920</td>\n",
              "      <td>2452.490759</td>\n",
              "      <td>80.948705</td>\n",
              "      <td>26.801964</td>\n",
              "    </tr>\n",
              "    <tr>\n",
              "      <th>std</th>\n",
              "      <td>8.095838</td>\n",
              "      <td>1.161387e+06</td>\n",
              "      <td>232751.161987</td>\n",
              "      <td>1031.972625</td>\n",
              "      <td>4.878680</td>\n",
              "      <td>1.197041</td>\n",
              "    </tr>\n",
              "    <tr>\n",
              "      <th>min</th>\n",
              "      <td>1993.000000</td>\n",
              "      <td>4.293800e+04</td>\n",
              "      <td>63142.040000</td>\n",
              "      <td>222.500000</td>\n",
              "      <td>54.200000</td>\n",
              "      <td>22.190000</td>\n",
              "    </tr>\n",
              "    <tr>\n",
              "      <th>25%</th>\n",
              "      <td>1999.750000</td>\n",
              "      <td>5.488570e+05</td>\n",
              "      <td>146919.500000</td>\n",
              "      <td>1703.525000</td>\n",
              "      <td>78.975000</td>\n",
              "      <td>26.177500</td>\n",
              "    </tr>\n",
              "    <tr>\n",
              "      <th>50%</th>\n",
              "      <td>2006.500000</td>\n",
              "      <td>1.667773e+06</td>\n",
              "      <td>373551.500000</td>\n",
              "      <td>2315.700000</td>\n",
              "      <td>82.375000</td>\n",
              "      <td>26.730000</td>\n",
              "    </tr>\n",
              "    <tr>\n",
              "      <th>75%</th>\n",
              "      <td>2013.250000</td>\n",
              "      <td>2.436851e+06</td>\n",
              "      <td>514570.250000</td>\n",
              "      <td>3039.700000</td>\n",
              "      <td>84.000000</td>\n",
              "      <td>27.200000</td>\n",
              "    </tr>\n",
              "    <tr>\n",
              "      <th>max</th>\n",
              "      <td>2020.000000</td>\n",
              "      <td>4.881089e+06</td>\n",
              "      <td>872737.000000</td>\n",
              "      <td>5522.000000</td>\n",
              "      <td>90.600000</td>\n",
              "      <td>29.850000</td>\n",
              "    </tr>\n",
              "  </tbody>\n",
              "</table>\n",
              "</div>\n",
              "      <button class=\"colab-df-convert\" onclick=\"convertToInteractive('df-ce361d73-f9a3-4888-a6d8-35d5aa81e0f4')\"\n",
              "              title=\"Convert this dataframe to an interactive table.\"\n",
              "              style=\"display:none;\">\n",
              "        \n",
              "  <svg xmlns=\"http://www.w3.org/2000/svg\" height=\"24px\"viewBox=\"0 0 24 24\"\n",
              "       width=\"24px\">\n",
              "    <path d=\"M0 0h24v24H0V0z\" fill=\"none\"/>\n",
              "    <path d=\"M18.56 5.44l.94 2.06.94-2.06 2.06-.94-2.06-.94-.94-2.06-.94 2.06-2.06.94zm-11 1L8.5 8.5l.94-2.06 2.06-.94-2.06-.94L8.5 2.5l-.94 2.06-2.06.94zm10 10l.94 2.06.94-2.06 2.06-.94-2.06-.94-.94-2.06-.94 2.06-2.06.94z\"/><path d=\"M17.41 7.96l-1.37-1.37c-.4-.4-.92-.59-1.43-.59-.52 0-1.04.2-1.43.59L10.3 9.45l-7.72 7.72c-.78.78-.78 2.05 0 2.83L4 21.41c.39.39.9.59 1.41.59.51 0 1.02-.2 1.41-.59l7.78-7.78 2.81-2.81c.8-.78.8-2.07 0-2.86zM5.41 20L4 18.59l7.72-7.72 1.47 1.35L5.41 20z\"/>\n",
              "  </svg>\n",
              "      </button>\n",
              "      \n",
              "  <style>\n",
              "    .colab-df-container {\n",
              "      display:flex;\n",
              "      flex-wrap:wrap;\n",
              "      gap: 12px;\n",
              "    }\n",
              "\n",
              "    .colab-df-convert {\n",
              "      background-color: #E8F0FE;\n",
              "      border: none;\n",
              "      border-radius: 50%;\n",
              "      cursor: pointer;\n",
              "      display: none;\n",
              "      fill: #1967D2;\n",
              "      height: 32px;\n",
              "      padding: 0 0 0 0;\n",
              "      width: 32px;\n",
              "    }\n",
              "\n",
              "    .colab-df-convert:hover {\n",
              "      background-color: #E2EBFA;\n",
              "      box-shadow: 0px 1px 2px rgba(60, 64, 67, 0.3), 0px 1px 3px 1px rgba(60, 64, 67, 0.15);\n",
              "      fill: #174EA6;\n",
              "    }\n",
              "\n",
              "    [theme=dark] .colab-df-convert {\n",
              "      background-color: #3B4455;\n",
              "      fill: #D2E3FC;\n",
              "    }\n",
              "\n",
              "    [theme=dark] .colab-df-convert:hover {\n",
              "      background-color: #434B5C;\n",
              "      box-shadow: 0px 1px 3px 1px rgba(0, 0, 0, 0.15);\n",
              "      filter: drop-shadow(0px 1px 2px rgba(0, 0, 0, 0.3));\n",
              "      fill: #FFFFFF;\n",
              "    }\n",
              "  </style>\n",
              "\n",
              "      <script>\n",
              "        const buttonEl =\n",
              "          document.querySelector('#df-ce361d73-f9a3-4888-a6d8-35d5aa81e0f4 button.colab-df-convert');\n",
              "        buttonEl.style.display =\n",
              "          google.colab.kernel.accessAllowed ? 'block' : 'none';\n",
              "\n",
              "        async function convertToInteractive(key) {\n",
              "          const element = document.querySelector('#df-ce361d73-f9a3-4888-a6d8-35d5aa81e0f4');\n",
              "          const dataTable =\n",
              "            await google.colab.kernel.invokeFunction('convertToInteractive',\n",
              "                                                     [key], {});\n",
              "          if (!dataTable) return;\n",
              "\n",
              "          const docLinkHtml = 'Like what you see? Visit the ' +\n",
              "            '<a target=\"_blank\" href=https://colab.research.google.com/notebooks/data_table.ipynb>data table notebook</a>'\n",
              "            + ' to learn more about interactive tables.';\n",
              "          element.innerHTML = '';\n",
              "          dataTable['output_type'] = 'display_data';\n",
              "          await google.colab.output.renderOutput(dataTable, element);\n",
              "          const docLink = document.createElement('div');\n",
              "          docLink.innerHTML = docLinkHtml;\n",
              "          element.appendChild(docLink);\n",
              "        }\n",
              "      </script>\n",
              "    </div>\n",
              "  </div>\n",
              "  "
            ]
          },
          "metadata": {},
          "execution_count": 112
        }
      ]
    },
    {
      "cell_type": "code",
      "source": [
        "df.columns"
      ],
      "metadata": {
        "colab": {
          "base_uri": "https://localhost:8080/"
        },
        "id": "gYqHDjn-Y1Vu",
        "outputId": "e24d50bb-0fdb-4b12-8ce7-71854d8a143a"
      },
      "execution_count": null,
      "outputs": [
        {
          "output_type": "execute_result",
          "data": {
            "text/plain": [
              "Index(['Provinsi', 'Tahun', 'Produksi', 'Luas Panen', 'Curah hujan',\n",
              "       'Kelembapan', 'Suhu rata-rata'],\n",
              "      dtype='object')"
            ]
          },
          "metadata": {},
          "execution_count": 113
        }
      ]
    },
    {
      "cell_type": "code",
      "source": [
        "df.shape"
      ],
      "metadata": {
        "colab": {
          "base_uri": "https://localhost:8080/"
        },
        "id": "qeF8DsoLY3-O",
        "outputId": "23d997cf-84c4-497b-d077-e24155bd4729"
      },
      "execution_count": null,
      "outputs": [
        {
          "output_type": "execute_result",
          "data": {
            "text/plain": [
              "(224, 7)"
            ]
          },
          "metadata": {},
          "execution_count": 114
        }
      ]
    },
    {
      "cell_type": "code",
      "source": [
        "df.dtypes"
      ],
      "metadata": {
        "colab": {
          "base_uri": "https://localhost:8080/"
        },
        "id": "lKuzHhyxY7Mg",
        "outputId": "cb30a120-5681-4576-e8ab-4fdbc22b1529"
      },
      "execution_count": null,
      "outputs": [
        {
          "output_type": "execute_result",
          "data": {
            "text/plain": [
              "Provinsi           object\n",
              "Tahun               int64\n",
              "Produksi          float64\n",
              "Luas Panen        float64\n",
              "Curah hujan       float64\n",
              "Kelembapan        float64\n",
              "Suhu rata-rata    float64\n",
              "dtype: object"
            ]
          },
          "metadata": {},
          "execution_count": 115
        }
      ]
    },
    {
      "cell_type": "code",
      "source": [
        "plt.figure(figsize=(10,7))\n",
        "sns.lineplot(df['Tahun'], df['Produksi'])\n",
        "plt.ylabel(\"Produksi (ton)\")"
      ],
      "metadata": {
        "colab": {
          "base_uri": "https://localhost:8080/",
          "height": 525
        },
        "id": "hG3LAaoNZB3X",
        "outputId": "dfcd7715-4d98-4279-d393-ea52482b090e"
      },
      "execution_count": null,
      "outputs": [
        {
          "output_type": "stream",
          "name": "stderr",
          "text": [
            "/usr/local/lib/python3.8/dist-packages/seaborn/_decorators.py:36: FutureWarning: Pass the following variables as keyword args: x, y. From version 0.12, the only valid positional argument will be `data`, and passing other arguments without an explicit keyword will result in an error or misinterpretation.\n",
            "  warnings.warn(\n"
          ]
        },
        {
          "output_type": "execute_result",
          "data": {
            "text/plain": [
              "Text(0, 0.5, 'Produksi (ton)')"
            ]
          },
          "metadata": {},
          "execution_count": 116
        },
        {
          "output_type": "display_data",
          "data": {
            "text/plain": [
              "<Figure size 720x504 with 1 Axes>"
            ],
            "image/png": "[encoded data removed]"
          },
          "metadata": {
            "needs_background": "light"
          }
        }
      ]
    },
    {
      "cell_type": "markdown",
      "source": [
        "Berdasarkan visualisasi lineplot hasil produksi tertinggi ada diantara 2015-2020"
      ],
      "metadata": {
        "id": "dIFtpRmxlO-h"
      }
    },
    {
      "cell_type": "code",
      "source": [
        "plt.figure(figsize=(15,7))\n",
        "sns.barplot(df['Provinsi'], df['Produksi'])\n",
        "\n",
        "plt.ylabel(\"Hasil Provinsi (ton)\", fontsize=12)\n",
        "plt.xlabel(\"Provinsi di Sumatera\", fontsize=12)"
      ],
      "metadata": {
        "colab": {
          "base_uri": "https://localhost:8080/",
          "height": 423
        },
        "id": "l0aKS_kiZ8L2",
        "outputId": "79ba7108-cb5b-4e74-b37f-01efc3b778a8"
      },
      "execution_count": null,
      "outputs": [
        {
          "output_type": "stream",
          "name": "stderr",
          "text": [
            "/usr/local/lib/python3.8/dist-packages/seaborn/_decorators.py:36: FutureWarning: Pass the following variables as keyword args: x, y. From version 0.12, the only valid positional argument will be `data`, and passing other arguments without an explicit keyword will result in an error or misinterpretation.\n",
            "  warnings.warn(\n"
          ]
        },
        {
          "output_type": "execute_result",
          "data": {
            "text/plain": [
              "Text(0.5, 0, 'Provinsi di Sumatera')"
            ]
          },
          "metadata": {},
          "execution_count": 117
        },
        {
          "output_type": "display_data",
          "data": {
            "text/plain": [
              "<Figure size 1080x504 with 1 Axes>"
            ],
            "image/png": "[encoded data removed]"
          },
          "metadata": {
            "needs_background": "light"
          }
        }
      ]
    },
    {
      "cell_type": "code",
      "source": [
        "plt.figure(figsize=(15,7))\n",
        "sns.barplot(df['Tahun'], df['Produksi'])\n",
        "\n",
        "plt.ylabel(\"Produksi (ton)\", fontsize=12)\n",
        "plt.xlabel(\"Hasil per Tahun\", fontsize=12)"
      ],
      "metadata": {
        "colab": {
          "base_uri": "https://localhost:8080/",
          "height": 423
        },
        "id": "93J7sB46axdt",
        "outputId": "6c50049b-a897-4c59-8cb1-89503d7aa6dd"
      },
      "execution_count": null,
      "outputs": [
        {
          "output_type": "stream",
          "name": "stderr",
          "text": [
            "/usr/local/lib/python3.8/dist-packages/seaborn/_decorators.py:36: FutureWarning: Pass the following variables as keyword args: x, y. From version 0.12, the only valid positional argument will be `data`, and passing other arguments without an explicit keyword will result in an error or misinterpretation.\n",
            "  warnings.warn(\n"
          ]
        },
        {
          "output_type": "execute_result",
          "data": {
            "text/plain": [
              "Text(0.5, 0, 'Hasil per Tahun')"
            ]
          },
          "metadata": {},
          "execution_count": 118
        },
        {
          "output_type": "display_data",
          "data": {
            "text/plain": [
              "<Figure size 1080x504 with 1 Axes>"
            ],
            "image/png": "[encoded data removed]"
          },
          "metadata": {
            "needs_background": "light"
          }
        }
      ]
    },
    {
      "cell_type": "code",
      "source": [
        "plt.figure(figsize=(15,7))\n",
        "sns.regplot(df['Luas Panen'], df['Produksi'])\n",
        "plt.ylabel(\"Produksi (ton)\", fontsize=12)\n",
        "plt.xlabel(\"Luas lahan (Ha)\", fontsize=12)"
      ],
      "metadata": {
        "colab": {
          "base_uri": "https://localhost:8080/",
          "height": 424
        },
        "id": "xgjzU6EDcbOs",
        "outputId": "fc8aacb3-0f5f-4eff-c49f-390860891495"
      },
      "execution_count": null,
      "outputs": [
        {
          "output_type": "stream",
          "name": "stderr",
          "text": [
            "/usr/local/lib/python3.8/dist-packages/seaborn/_decorators.py:36: FutureWarning: Pass the following variables as keyword args: x, y. From version 0.12, the only valid positional argument will be `data`, and passing other arguments without an explicit keyword will result in an error or misinterpretation.\n",
            "  warnings.warn(\n"
          ]
        },
        {
          "output_type": "execute_result",
          "data": {
            "text/plain": [
              "Text(0.5, 0, 'Luas lahan (Ha)')"
            ]
          },
          "metadata": {},
          "execution_count": 119
        },
        {
          "output_type": "display_data",
          "data": {
            "text/plain": [
              "<Figure size 1080x504 with 1 Axes>"
            ],
            "image/png": "[encoded data removed]"
          },
          "metadata": {
            "needs_background": "light"
          }
        }
      ]
    },
    {
      "cell_type": "code",
      "source": [
        "plt.figure(figsize=(10,7))\n",
        "sns.regplot(df['Curah hujan'], df['Produksi'])\n",
        "plt.ylabel(\"Produksi (ton)\", fontsize=12)\n",
        "plt.xlabel(\"Curah hujan (mm)\", fontsize=12)"
      ],
      "metadata": {
        "colab": {
          "base_uri": "https://localhost:8080/",
          "height": 528
        },
        "id": "8qwzitglcsNc",
        "outputId": "a425f090-0828-49d0-c68c-69a423d9eb23"
      },
      "execution_count": null,
      "outputs": [
        {
          "output_type": "stream",
          "name": "stderr",
          "text": [
            "/usr/local/lib/python3.8/dist-packages/seaborn/_decorators.py:36: FutureWarning: Pass the following variables as keyword args: x, y. From version 0.12, the only valid positional argument will be `data`, and passing other arguments without an explicit keyword will result in an error or misinterpretation.\n",
            "  warnings.warn(\n"
          ]
        },
        {
          "output_type": "execute_result",
          "data": {
            "text/plain": [
              "Text(0.5, 0, 'Curah hujan (mm)')"
            ]
          },
          "metadata": {},
          "execution_count": 120
        },
        {
          "output_type": "display_data",
          "data": {
            "text/plain": [
              "<Figure size 720x504 with 1 Axes>"
            ],
            "image/png": "[encoded data removed]"
          },
          "metadata": {
            "needs_background": "light"
          }
        }
      ]
    },
    {
      "cell_type": "code",
      "source": [
        "df1 = pd.get_dummies(df, columns=['Provinsi'], prefix=['Provinsi'])"
      ],
      "metadata": {
        "id": "oe3zOkBAcx1c"
      },
      "execution_count": null,
      "outputs": []
    },
    {
      "cell_type": "code",
      "source": [
        "x_reg = df1.loc[:, df1.columns != 'Produksi'].values\n",
        "y_reg = df1['Produksi'].values\n",
        "y_reg = y_reg.reshape(-1,1)"
      ],
      "metadata": {
        "id": "QBztAP0xeC_D"
      },
      "execution_count": null,
      "outputs": []
    },
    {
      "cell_type": "code",
      "source": [
        "from sklearn.model_selection import train_test_split\n",
        "from sklearn.preprocessing import StandardScaler\n",
        "from sklearn.tree import DecisionTreeRegressor\n",
        "from sklearn.metrics import mean_squared_error as mse\n",
        "from sklearn.metrics import mean_absolute_error as mae\n",
        "from sklearn.metrics import r2_score"
      ],
      "metadata": {
        "id": "l36T1wF6edYj"
      },
      "execution_count": null,
      "outputs": []
    },
    {
      "cell_type": "code",
      "source": [
        "x_train, x_test, y_train, y_test = train_test_split(x_reg, y_reg, test_size=0.2, random_state=3)"
      ],
      "metadata": {
        "id": "_f4N_TjzfLk6"
      },
      "execution_count": null,
      "outputs": []
    },
    {
      "cell_type": "code",
      "source": [
        "print(len(x_train))"
      ],
      "metadata": {
        "colab": {
          "base_uri": "https://localhost:8080/"
        },
        "id": "Tw7aacDXflzE",
        "outputId": "a48b493a-3dc7-45bb-96d7-76808bfcf47d"
      },
      "execution_count": null,
      "outputs": [
        {
          "output_type": "stream",
          "name": "stdout",
          "text": [
            "179\n"
          ]
        }
      ]
    },
    {
      "cell_type": "code",
      "source": [
        "print(len(x_test))"
      ],
      "metadata": {
        "colab": {
          "base_uri": "https://localhost:8080/"
        },
        "id": "ti3MSLcgfqAb",
        "outputId": "d069553b-07cf-416e-8e6f-8a18e022a446"
      },
      "execution_count": null,
      "outputs": [
        {
          "output_type": "stream",
          "name": "stdout",
          "text": [
            "45\n"
          ]
        }
      ]
    },
    {
      "cell_type": "code",
      "source": [
        "print(len(y_train))"
      ],
      "metadata": {
        "colab": {
          "base_uri": "https://localhost:8080/"
        },
        "id": "JtH7t2_pftHb",
        "outputId": "da587abb-713c-49f2-942d-7f03acebde43"
      },
      "execution_count": null,
      "outputs": [
        {
          "output_type": "stream",
          "name": "stdout",
          "text": [
            "179\n"
          ]
        }
      ]
    },
    {
      "cell_type": "code",
      "source": [
        "print(len(y_test))"
      ],
      "metadata": {
        "colab": {
          "base_uri": "https://localhost:8080/"
        },
        "id": "nYQibCpRfvaN",
        "outputId": "39363c54-ef88-4daa-f555-2e4e2b072c35"
      },
      "execution_count": null,
      "outputs": [
        {
          "output_type": "stream",
          "name": "stdout",
          "text": [
            "45\n"
          ]
        }
      ]
    },
    {
      "cell_type": "code",
      "source": [
        "sc = StandardScaler()\n",
        "x_train[:, :] = sc.fit_transform(x_train[:, :])\n",
        "x_test[:, :] = sc.transform(x_test[:,:])\n",
        "y_train[:,:] = sc.fit_transform(y_train[:,:])\n",
        "y_test[:,:] = sc.transform(y_test[:,:])"
      ],
      "metadata": {
        "id": "bUhMZXyZfx5q"
      },
      "execution_count": null,
      "outputs": []
    },
    {
      "cell_type": "code",
      "source": [
        "def C45_fin(max_depth):\n",
        "  for depth in max_depth:\n",
        "    print(\"\\n max depth {}\".format(depth))\n",
        "    reg = DecisionTreeRegressor(max_depth = depth)\n",
        "    reg = reg.fit(x_train, y_train)\n",
        "    pred =  reg.predict(x_test)\n",
        "\n",
        "    print(r2_score(y_test, pred))\n",
        "    print(mae(y_test, pred))\n",
        "    print(mse(y_test, pred))"
      ],
      "metadata": {
        "id": "5QDQ4-6UhGXL"
      },
      "execution_count": null,
      "outputs": []
    },
    {
      "cell_type": "code",
      "source": [
        "max_depth = [3, 4, 5, 6]\n",
        "C45_fin(max_depth)"
      ],
      "metadata": {
        "colab": {
          "base_uri": "https://localhost:8080/"
        },
        "id": "pGzBNn7qiAPx",
        "outputId": "606aa5fb-797a-4ff4-d076-30859ff29e45"
      },
      "execution_count": null,
      "outputs": [
        {
          "output_type": "stream",
          "name": "stdout",
          "text": [
            "\n",
            " max depth 3\n",
            "0.8486878518444481\n",
            "0.2926214369563999\n",
            "0.1783151140687687\n",
            "\n",
            " max depth 4\n",
            "0.8666344501176944\n",
            "0.2511337792768286\n",
            "0.15716578959450064\n",
            "\n",
            " max depth 5\n",
            "0.8414338002403778\n",
            "0.24974964450613307\n",
            "0.1868637141316716\n",
            "\n",
            " max depth 6\n",
            "0.8217875695616713\n",
            "0.2697874658332443\n",
            "0.21001598516342987\n"
          ]
        }
      ]
    },
    {
      "cell_type": "markdown",
      "source": [
        "max_depth dengan r2 score terbaik adalah 4"
      ],
      "metadata": {
        "id": "Li5zuSnQqFrW"
      }
    },
    {
      "cell_type": "code",
      "source": [
        "model = DecisionTreeRegressor(max_depth=4, splitter='best')\n",
        "model.fit(x_train, y_train)"
      ],
      "metadata": {
        "colab": {
          "base_uri": "https://localhost:8080/"
        },
        "id": "8ep7G3dTkRnZ",
        "outputId": "1079090b-5835-4e05-f6d5-28ef7feeb2ac"
      },
      "execution_count": null,
      "outputs": [
        {
          "output_type": "execute_result",
          "data": {
            "text/plain": [
              "DecisionTreeRegressor(max_depth=4)"
            ]
          },
          "metadata": {},
          "execution_count": 132
        }
      ]
    },
    {
      "cell_type": "code",
      "source": [
        "y_pred = model.predict(x_test)\n",
        "y_pred"
      ],
      "metadata": {
        "colab": {
          "base_uri": "https://localhost:8080/"
        },
        "id": "kPDWU5-_qoG2",
        "outputId": "16028ac4-e8a8-4c79-9868-15e82fb424eb"
      },
      "execution_count": null,
      "outputs": [
        {
          "output_type": "execute_result",
          "data": {
            "text/plain": [
              "array([ 0.56075545, -0.17134038,  0.56075545, -0.94221591, -0.94221591,\n",
              "        1.40405218, -1.01265679,  0.56075545, -1.09974715,  0.2081334 ,\n",
              "       -1.01265679,  1.40405218, -1.2082785 , -1.01265679, -1.09974715,\n",
              "        0.56075545,  1.40405218,  0.2081334 , -1.01265679,  1.40405218,\n",
              "       -1.01265679, -1.16594368,  1.40405218,  1.40405218, -0.94221591,\n",
              "        0.56075545,  0.2081334 ,  1.66100002,  0.2081334 ,  1.40405218,\n",
              "       -0.17134038, -1.01265679, -0.17134038,  1.40405218, -0.17134038,\n",
              "        1.40405218,  0.76014563, -0.17134038, -1.09974715, -1.09974715,\n",
              "        1.40405218,  0.2081334 , -1.01265679,  0.2081334 ,  0.2081334 ])"
            ]
          },
          "metadata": {},
          "execution_count": 133
        }
      ]
    },
    {
      "cell_type": "code",
      "source": [
        "print(f'r2 Score: {model.score(x_test, y_test)}')"
      ],
      "metadata": {
        "colab": {
          "base_uri": "https://localhost:8080/"
        },
        "id": "4G96QIfYriDf",
        "outputId": "b6655fce-8341-4daf-99f6-71581355f0ab"
      },
      "execution_count": null,
      "outputs": [
        {
          "output_type": "stream",
          "name": "stdout",
          "text": [
            "r2 Score: 0.8666344501176945\n"
          ]
        }
      ]
    },
    {
      "cell_type": "code",
      "source": [
        "import keras\n",
        "from tensorflow.keras.models import Sequential\n",
        "from keras.callbacks import History"
      ],
      "metadata": {
        "id": "eJuH7v9ojK5B"
      },
      "execution_count": null,
      "outputs": []
    },
    {
      "cell_type": "code",
      "source": [
        "from tensorflow.keras.layers import Dense\n",
        "model = Sequential()\n",
        "model.add(Dense(30, input_dim=x_train.shape[1], activation='relu'))\n",
        "model.add(Dense(20, activation='relu'))\n",
        "model.add(Dense(2, activation='relu'))\n",
        "model.compile(optimizer='adam',loss='mean_absolute_error')\n",
        "model.summary()"
      ],
      "metadata": {
        "colab": {
          "base_uri": "https://localhost:8080/"
        },
        "id": "H8l35jKbjlqo",
        "outputId": "ac093efb-cd45-4f96-fdde-f42c8c319120"
      },
      "execution_count": null,
      "outputs": [
        {
          "output_type": "stream",
          "name": "stdout",
          "text": [
            "Model: \"sequential_5\"\n",
            "_________________________________________________________________\n",
            " Layer (type)                Output Shape              Param #   \n",
            "=================================================================\n",
            " dense_10 (Dense)            (None, 30)                420       \n",
            "                                                                 \n",
            " dense_11 (Dense)            (None, 20)                620       \n",
            "                                                                 \n",
            " dense_12 (Dense)            (None, 2)                 42        \n",
            "                                                                 \n",
            "=================================================================\n",
            "Total params: 1,082\n",
            "Trainable params: 1,082\n",
            "Non-trainable params: 0\n",
            "_________________________________________________________________\n"
          ]
        }
      ]
    },
    {
      "cell_type": "code",
      "source": [
        "history = History()\n",
        "History = model.fit(x=x_train,y=y_train,validation_data=(x_test,y_test),epochs=50, callbacks=[history])"
      ],
      "metadata": {
        "colab": {
          "base_uri": "https://localhost:8080/"
        },
        "id": "p9beEzYJuGxL",
        "outputId": "4da90b56-3e1a-4acd-f5e8-9396ef783f3f"
      },
      "execution_count": null,
      "outputs": [
        {
          "output_type": "stream",
          "name": "stdout",
          "text": [
            "Epoch 1/50\n",
            "6/6 [==============================] - 1s 30ms/step - loss: 0.8624 - val_loss: 0.9149\n",
            "Epoch 2/50\n",
            "6/6 [==============================] - 0s 6ms/step - loss: 0.8246 - val_loss: 0.8854\n",
            "Epoch 3/50\n",
            "6/6 [==============================] - 0s 6ms/step - loss: 0.8023 - val_loss: 0.8599\n",
            "Epoch 4/50\n",
            "6/6 [==============================] - 0s 6ms/step - loss: 0.7826 - val_loss: 0.8420\n",
            "Epoch 5/50\n",
            "6/6 [==============================] - 0s 6ms/step - loss: 0.7691 - val_loss: 0.8273\n",
            "Epoch 6/50\n",
            "6/6 [==============================] - 0s 6ms/step - loss: 0.7568 - val_loss: 0.8144\n",
            "Epoch 7/50\n",
            "6/6 [==============================] - 0s 11ms/step - loss: 0.7460 - val_loss: 0.8003\n",
            "Epoch 8/50\n",
            "6/6 [==============================] - 0s 6ms/step - loss: 0.7349 - val_loss: 0.7871\n",
            "Epoch 9/50\n",
            "6/6 [==============================] - 0s 7ms/step - loss: 0.7262 - val_loss: 0.7767\n",
            "Epoch 10/50\n",
            "6/6 [==============================] - 0s 6ms/step - loss: 0.7190 - val_loss: 0.7709\n",
            "Epoch 11/50\n",
            "6/6 [==============================] - 0s 6ms/step - loss: 0.7132 - val_loss: 0.7642\n",
            "Epoch 12/50\n",
            "6/6 [==============================] - 0s 6ms/step - loss: 0.7075 - val_loss: 0.7593\n",
            "Epoch 13/50\n",
            "6/6 [==============================] - 0s 6ms/step - loss: 0.7013 - val_loss: 0.7562\n",
            "Epoch 14/50\n",
            "6/6 [==============================] - 0s 6ms/step - loss: 0.6949 - val_loss: 0.7562\n",
            "Epoch 15/50\n",
            "6/6 [==============================] - 0s 10ms/step - loss: 0.6884 - val_loss: 0.7517\n",
            "Epoch 16/50\n",
            "6/6 [==============================] - 0s 6ms/step - loss: 0.6827 - val_loss: 0.7466\n",
            "Epoch 17/50\n",
            "6/6 [==============================] - 0s 7ms/step - loss: 0.6766 - val_loss: 0.7405\n",
            "Epoch 18/50\n",
            "6/6 [==============================] - 0s 7ms/step - loss: 0.6725 - val_loss: 0.7368\n",
            "Epoch 19/50\n",
            "6/6 [==============================] - 0s 10ms/step - loss: 0.6687 - val_loss: 0.7327\n",
            "Epoch 20/50\n",
            "6/6 [==============================] - 0s 7ms/step - loss: 0.6639 - val_loss: 0.7284\n",
            "Epoch 21/50\n",
            "6/6 [==============================] - 0s 7ms/step - loss: 0.6587 - val_loss: 0.7231\n",
            "Epoch 22/50\n",
            "6/6 [==============================] - 0s 9ms/step - loss: 0.6514 - val_loss: 0.7123\n",
            "Epoch 23/50\n",
            "6/6 [==============================] - 0s 8ms/step - loss: 0.6428 - val_loss: 0.6989\n",
            "Epoch 24/50\n",
            "6/6 [==============================] - 0s 6ms/step - loss: 0.6311 - val_loss: 0.6842\n",
            "Epoch 25/50\n",
            "6/6 [==============================] - 0s 10ms/step - loss: 0.6186 - val_loss: 0.6682\n",
            "Epoch 26/50\n",
            "6/6 [==============================] - 0s 7ms/step - loss: 0.6037 - val_loss: 0.6495\n",
            "Epoch 27/50\n",
            "6/6 [==============================] - 0s 7ms/step - loss: 0.5868 - val_loss: 0.6340\n",
            "Epoch 28/50\n",
            "6/6 [==============================] - 0s 7ms/step - loss: 0.5740 - val_loss: 0.6172\n",
            "Epoch 29/50\n",
            "6/6 [==============================] - 0s 6ms/step - loss: 0.5631 - val_loss: 0.6044\n",
            "Epoch 30/50\n",
            "6/6 [==============================] - 0s 6ms/step - loss: 0.5558 - val_loss: 0.5987\n",
            "Epoch 31/50\n",
            "6/6 [==============================] - 0s 6ms/step - loss: 0.5509 - val_loss: 0.5946\n",
            "Epoch 32/50\n",
            "6/6 [==============================] - 0s 7ms/step - loss: 0.5476 - val_loss: 0.5908\n",
            "Epoch 33/50\n",
            "6/6 [==============================] - 0s 7ms/step - loss: 0.5449 - val_loss: 0.5885\n",
            "Epoch 34/50\n",
            "6/6 [==============================] - 0s 7ms/step - loss: 0.5406 - val_loss: 0.5851\n",
            "Epoch 35/50\n",
            "6/6 [==============================] - 0s 7ms/step - loss: 0.5380 - val_loss: 0.5819\n",
            "Epoch 36/50\n",
            "6/6 [==============================] - 0s 7ms/step - loss: 0.5358 - val_loss: 0.5766\n",
            "Epoch 37/50\n",
            "6/6 [==============================] - 0s 7ms/step - loss: 0.5330 - val_loss: 0.5731\n",
            "Epoch 38/50\n",
            "6/6 [==============================] - 0s 7ms/step - loss: 0.5312 - val_loss: 0.5689\n",
            "Epoch 39/50\n",
            "6/6 [==============================] - 0s 7ms/step - loss: 0.5286 - val_loss: 0.5679\n",
            "Epoch 40/50\n",
            "6/6 [==============================] - 0s 7ms/step - loss: 0.5264 - val_loss: 0.5655\n",
            "Epoch 41/50\n",
            "6/6 [==============================] - 0s 6ms/step - loss: 0.5253 - val_loss: 0.5633\n",
            "Epoch 42/50\n",
            "6/6 [==============================] - 0s 6ms/step - loss: 0.5235 - val_loss: 0.5624\n",
            "Epoch 43/50\n",
            "6/6 [==============================] - 0s 6ms/step - loss: 0.5220 - val_loss: 0.5630\n",
            "Epoch 44/50\n",
            "6/6 [==============================] - 0s 6ms/step - loss: 0.5209 - val_loss: 0.5597\n",
            "Epoch 45/50\n",
            "6/6 [==============================] - 0s 8ms/step - loss: 0.5200 - val_loss: 0.5572\n",
            "Epoch 46/50\n",
            "6/6 [==============================] - 0s 11ms/step - loss: 0.5181 - val_loss: 0.5569\n",
            "Epoch 47/50\n",
            "6/6 [==============================] - 0s 6ms/step - loss: 0.5179 - val_loss: 0.5584\n",
            "Epoch 48/50\n",
            "6/6 [==============================] - 0s 7ms/step - loss: 0.5163 - val_loss: 0.5559\n",
            "Epoch 49/50\n",
            "6/6 [==============================] - 0s 7ms/step - loss: 0.5145 - val_loss: 0.5568\n",
            "Epoch 50/50\n",
            "6/6 [==============================] - 0s 6ms/step - loss: 0.5130 - val_loss: 0.5565\n"
          ]
        }
      ]
    },
    {
      "cell_type": "code",
      "source": [
        "plt.figure(figsize=(14,8))\n",
        "plt.plot(History.history['mean_absolute_error'])\n",
        "plt.plot(History.history['val_mean_absolute_error'])\n",
        "plt.title('Mean Absolute Error', fontsize=14)\n",
        "plt.ylabel('mean_absolute_error', fontsize=12)\n",
        "plt.xlabel('Epoch', fontsize=12)\n",
        "plt.legend(['train', 'test'], loc='upper left')\n",
        "plt.show()\n",
        "\n",
        "plt.figure(figsize=(14,8))\n",
        "plt.plot(History.history['loss'])\n",
        "plt.plot(History.history['val_loss'])\n",
        "plt.title('Model Loss', fontsize=14)\n",
        "plt.ylabel('Loss', fontsize=12)\n",
        "plt.xlabel('Epoch', fontsize=12)\n",
        "plt.legend(['train', 'test'], loc='upper left')\n",
        "plt.show()"
      ],
      "metadata": {
        "colab": {
          "base_uri": "https://localhost:8080/",
          "height": 252
        },
        "id": "3y8hra36nMWv",
        "outputId": "5d11076e-446e-42fb-e529-f2d65cacda91"
      },
      "execution_count": null,
      "outputs": [
        {
          "output_type": "error",
          "ename": "KeyError",
          "evalue": "ignored",
          "traceback": [
            "\u001b[0;31m---------------------------------------------------------------------------\u001b[0m",
            "\u001b[0;31mKeyError\u001b[0m                                  Traceback (most recent call last)",
            "\u001b[0;32m<ipython-input-138-3b872380b8c4>\u001b[0m in \u001b[0;36m<module>\u001b[0;34m\u001b[0m\n\u001b[1;32m      1\u001b[0m \u001b[0mplt\u001b[0m\u001b[0;34m.\u001b[0m\u001b[0mfigure\u001b[0m\u001b[0;34m(\u001b[0m\u001b[0mfigsize\u001b[0m\u001b[0;34m=\u001b[0m\u001b[0;34m(\u001b[0m\u001b[0;36m14\u001b[0m\u001b[0;34m,\u001b[0m\u001b[0;36m8\u001b[0m\u001b[0;34m)\u001b[0m\u001b[0;34m)\u001b[0m\u001b[0;34m\u001b[0m\u001b[0;34m\u001b[0m\u001b[0m\n\u001b[0;32m----> 2\u001b[0;31m \u001b[0mplt\u001b[0m\u001b[0;34m.\u001b[0m\u001b[0mplot\u001b[0m\u001b[0;34m(\u001b[0m\u001b[0mHistory\u001b[0m\u001b[0;34m.\u001b[0m\u001b[0mhistory\u001b[0m\u001b[0;34m[\u001b[0m\u001b[0;34m'mean_absolute_error'\u001b[0m\u001b[0;34m]\u001b[0m\u001b[0;34m)\u001b[0m\u001b[0;34m\u001b[0m\u001b[0;34m\u001b[0m\u001b[0m\n\u001b[0m\u001b[1;32m      3\u001b[0m \u001b[0mplt\u001b[0m\u001b[0;34m.\u001b[0m\u001b[0mplot\u001b[0m\u001b[0;34m(\u001b[0m\u001b[0mHistory\u001b[0m\u001b[0;34m.\u001b[0m\u001b[0mhistory\u001b[0m\u001b[0;34m[\u001b[0m\u001b[0;34m'val_mean_absolute_error'\u001b[0m\u001b[0;34m]\u001b[0m\u001b[0;34m)\u001b[0m\u001b[0;34m\u001b[0m\u001b[0;34m\u001b[0m\u001b[0m\n\u001b[1;32m      4\u001b[0m \u001b[0mplt\u001b[0m\u001b[0;34m.\u001b[0m\u001b[0mtitle\u001b[0m\u001b[0;34m(\u001b[0m\u001b[0;34m'Mean Absolute Error'\u001b[0m\u001b[0;34m,\u001b[0m \u001b[0mfontsize\u001b[0m\u001b[0;34m=\u001b[0m\u001b[0;36m14\u001b[0m\u001b[0;34m)\u001b[0m\u001b[0;34m\u001b[0m\u001b[0;34m\u001b[0m\u001b[0m\n\u001b[1;32m      5\u001b[0m \u001b[0mplt\u001b[0m\u001b[0;34m.\u001b[0m\u001b[0mylabel\u001b[0m\u001b[0;34m(\u001b[0m\u001b[0;34m'mean_absolute_error'\u001b[0m\u001b[0;34m,\u001b[0m \u001b[0mfontsize\u001b[0m\u001b[0;34m=\u001b[0m\u001b[0;36m12\u001b[0m\u001b[0;34m)\u001b[0m\u001b[0;34m\u001b[0m\u001b[0;34m\u001b[0m\u001b[0m\n",
            "\u001b[0;31mKeyError\u001b[0m: 'mean_absolute_error'"
          ]
        },
        {
          "output_type": "display_data",
          "data": {
            "text/plain": [
              "<Figure size 1008x576 with 0 Axes>"
            ]
          },
          "metadata": {}
        }
      ]
    },
    {
      "cell_type": "code",
      "source": [],
      "metadata": {
        "id": "iq_-9mB-wqCz"
      },
      "execution_count": null,
      "outputs": []
    },
    {
      "cell_type": "code",
      "source": [
        "plt.figure(figsize=(14,8))\n",
        "sns.regplot(y_test, y_pred, marker='o')\n",
        "sns.regplot(y_test, y_pred, marker='^')\n",
        "plt.xlabel('Actual values')\n",
        "plt.ylabel('Predicted values')\n",
        "plt.legend(['ANN', 'Decision tree'], loc=upper left)\n",
        "plt.show"
      ],
      "metadata": {
        "id": "ssBoDQkGwrOK"
      },
      "execution_count": null,
      "outputs": []
    }
  ]
}